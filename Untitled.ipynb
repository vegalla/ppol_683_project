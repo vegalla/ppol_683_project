{
 "cells": [
  {
   "cell_type": "code",
   "execution_count": 16,
   "id": "portable-bryan",
   "metadata": {},
   "outputs": [],
   "source": [
    "import missingno as msno\n",
    "import pandas as pd\n",
    "import geopandas as gpd"
   ]
  },
  {
   "cell_type": "code",
   "execution_count": 17,
   "id": "contrary-worse",
   "metadata": {},
   "outputs": [],
   "source": [
    "dc = gpd.read_file('_data/processed/dc_processed.shp')"
   ]
  },
  {
   "cell_type": "code",
   "execution_count": 18,
   "id": "verified-cooler",
   "metadata": {
    "scrolled": true
   },
   "outputs": [
    {
     "data": {
      "text/plain": [
       "<AxesSubplot:>"
      ]
     },
     "execution_count": 18,
     "metadata": {},
     "output_type": "execute_result"
    },
    {
     "data": {
      "image/png": "[encoded data removed]",
      "text/plain": [
       "<Figure size 1800x720 with 2 Axes>"
      ]
     },
     "metadata": {
      "needs_background": "light"
     },
     "output_type": "display_data"
    }
   ],
   "source": [
    "msno.matrix(dc)"
   ]
  },
  {
   "cell_type": "code",
   "execution_count": 12,
   "id": "otherwise-compromise",
   "metadata": {},
   "outputs": [
    {
     "data": {
      "text/plain": [
       "array([2010., 2011., 2012., 2013., 2014., 2015., 2016., 2017.])"
      ]
     },
     "execution_count": 12,
     "metadata": {},
     "output_type": "execute_result"
    }
   ],
   "source": [
    "dc['year'].unique()"
   ]
  },
  {
   "cell_type": "code",
   "execution_count": 14,
   "id": "alternative-arena",
   "metadata": {},
   "outputs": [
    {
     "data": {
      "text/plain": [
       "179"
      ]
     },
     "execution_count": 14,
     "metadata": {},
     "output_type": "execute_result"
    }
   ],
   "source": [
    "len(dc['GEOID'].unique())"
   ]
  },
  {
   "cell_type": "code",
   "execution_count": 15,
   "id": "authorized-theater",
   "metadata": {},
   "outputs": [
    {
     "data": {
      "text/html": [
       "<div>\n",
       "<style scoped>\n",
       "    .dataframe tbody tr th:only-of-type {\n",
       "        vertical-align: middle;\n",
       "    }\n",
       "\n",
       "    .dataframe tbody tr th {\n",
       "        vertical-align: top;\n",
       "    }\n",
       "\n",
       "    .dataframe thead th {\n",
       "        text-align: right;\n",
       "    }\n",
       "</style>\n",
       "<table border=\"1\" class=\"dataframe\">\n",
       "  <thead>\n",
       "    <tr style=\"text-align: right;\">\n",
       "      <th></th>\n",
       "      <th>GEOID</th>\n",
       "      <th>year</th>\n",
       "      <th>mdn_nc_</th>\n",
       "      <th>mdn_hs_</th>\n",
       "      <th>pct_sngl_f</th>\n",
       "      <th>pct_sngl_m</th>\n",
       "      <th>fertlty</th>\n",
       "      <th>pct_bch</th>\n",
       "      <th>pct_br_</th>\n",
       "      <th>pct_n__</th>\n",
       "      <th>gentrfd</th>\n",
       "      <th>geometry</th>\n",
       "    </tr>\n",
       "  </thead>\n",
       "  <tbody>\n",
       "    <tr>\n",
       "      <th>0</th>\n",
       "      <td>11001010900</td>\n",
       "      <td>2010.0</td>\n",
       "      <td>8233.0</td>\n",
       "      <td>140400.0</td>\n",
       "      <td>2.9</td>\n",
       "      <td>29.6</td>\n",
       "      <td>87.0</td>\n",
       "      <td>12.5</td>\n",
       "      <td>97.6</td>\n",
       "      <td>94.1</td>\n",
       "      <td>0.0</td>\n",
       "      <td>POLYGON ((-77.03913 38.81961, -77.02748 38.819...</td>\n",
       "    </tr>\n",
       "    <tr>\n",
       "      <th>1</th>\n",
       "      <td>11001010900</td>\n",
       "      <td>2011.0</td>\n",
       "      <td>7265.0</td>\n",
       "      <td>141200.0</td>\n",
       "      <td>2.9</td>\n",
       "      <td>29.6</td>\n",
       "      <td>87.0</td>\n",
       "      <td>12.5</td>\n",
       "      <td>97.6</td>\n",
       "      <td>94.1</td>\n",
       "      <td>0.0</td>\n",
       "      <td>POLYGON ((-77.03913 38.81961, -77.02748 38.819...</td>\n",
       "    </tr>\n",
       "    <tr>\n",
       "      <th>2</th>\n",
       "      <td>11001010900</td>\n",
       "      <td>2012.0</td>\n",
       "      <td>9559.0</td>\n",
       "      <td>135300.0</td>\n",
       "      <td>2.9</td>\n",
       "      <td>29.6</td>\n",
       "      <td>87.0</td>\n",
       "      <td>12.5</td>\n",
       "      <td>97.6</td>\n",
       "      <td>94.1</td>\n",
       "      <td>0.0</td>\n",
       "      <td>POLYGON ((-77.03913 38.81961, -77.02748 38.819...</td>\n",
       "    </tr>\n",
       "    <tr>\n",
       "      <th>3</th>\n",
       "      <td>11001010900</td>\n",
       "      <td>2013.0</td>\n",
       "      <td>4116.0</td>\n",
       "      <td>137100.0</td>\n",
       "      <td>2.9</td>\n",
       "      <td>29.6</td>\n",
       "      <td>87.0</td>\n",
       "      <td>12.5</td>\n",
       "      <td>97.6</td>\n",
       "      <td>94.1</td>\n",
       "      <td>0.0</td>\n",
       "      <td>POLYGON ((-77.03913 38.81961, -77.02748 38.819...</td>\n",
       "    </tr>\n",
       "    <tr>\n",
       "      <th>4</th>\n",
       "      <td>11001010900</td>\n",
       "      <td>2014.0</td>\n",
       "      <td>6453.0</td>\n",
       "      <td>132000.0</td>\n",
       "      <td>2.9</td>\n",
       "      <td>29.6</td>\n",
       "      <td>87.0</td>\n",
       "      <td>12.5</td>\n",
       "      <td>97.6</td>\n",
       "      <td>94.1</td>\n",
       "      <td>0.0</td>\n",
       "      <td>POLYGON ((-77.03913 38.81961, -77.02748 38.819...</td>\n",
       "    </tr>\n",
       "    <tr>\n",
       "      <th>...</th>\n",
       "      <td>...</td>\n",
       "      <td>...</td>\n",
       "      <td>...</td>\n",
       "      <td>...</td>\n",
       "      <td>...</td>\n",
       "      <td>...</td>\n",
       "      <td>...</td>\n",
       "      <td>...</td>\n",
       "      <td>...</td>\n",
       "      <td>...</td>\n",
       "      <td>...</td>\n",
       "      <td>...</td>\n",
       "    </tr>\n",
       "    <tr>\n",
       "      <th>1427</th>\n",
       "      <td>11001003400</td>\n",
       "      <td>2013.0</td>\n",
       "      <td>31252.0</td>\n",
       "      <td>543900.0</td>\n",
       "      <td>1.5</td>\n",
       "      <td>5.6</td>\n",
       "      <td>15.0</td>\n",
       "      <td>32.0</td>\n",
       "      <td>90.4</td>\n",
       "      <td>84.1</td>\n",
       "      <td>0.0</td>\n",
       "      <td>POLYGON ((-77.02296 38.92723, -77.02255 38.927...</td>\n",
       "    </tr>\n",
       "    <tr>\n",
       "      <th>1428</th>\n",
       "      <td>11001003400</td>\n",
       "      <td>2014.0</td>\n",
       "      <td>28922.0</td>\n",
       "      <td>551800.0</td>\n",
       "      <td>1.5</td>\n",
       "      <td>5.6</td>\n",
       "      <td>15.0</td>\n",
       "      <td>32.0</td>\n",
       "      <td>90.4</td>\n",
       "      <td>84.1</td>\n",
       "      <td>0.0</td>\n",
       "      <td>POLYGON ((-77.02296 38.92723, -77.02255 38.927...</td>\n",
       "    </tr>\n",
       "    <tr>\n",
       "      <th>1429</th>\n",
       "      <td>11001003400</td>\n",
       "      <td>2015.0</td>\n",
       "      <td>21951.0</td>\n",
       "      <td>602900.0</td>\n",
       "      <td>1.5</td>\n",
       "      <td>5.6</td>\n",
       "      <td>15.0</td>\n",
       "      <td>32.0</td>\n",
       "      <td>90.4</td>\n",
       "      <td>84.1</td>\n",
       "      <td>0.0</td>\n",
       "      <td>POLYGON ((-77.02296 38.92723, -77.02255 38.927...</td>\n",
       "    </tr>\n",
       "    <tr>\n",
       "      <th>1430</th>\n",
       "      <td>11001003400</td>\n",
       "      <td>2016.0</td>\n",
       "      <td>18714.0</td>\n",
       "      <td>595000.0</td>\n",
       "      <td>1.5</td>\n",
       "      <td>5.6</td>\n",
       "      <td>15.0</td>\n",
       "      <td>32.0</td>\n",
       "      <td>90.4</td>\n",
       "      <td>84.1</td>\n",
       "      <td>0.0</td>\n",
       "      <td>POLYGON ((-77.02296 38.92723, -77.02255 38.927...</td>\n",
       "    </tr>\n",
       "    <tr>\n",
       "      <th>1431</th>\n",
       "      <td>11001003400</td>\n",
       "      <td>2017.0</td>\n",
       "      <td>11079.0</td>\n",
       "      <td>700900.0</td>\n",
       "      <td>1.5</td>\n",
       "      <td>5.6</td>\n",
       "      <td>15.0</td>\n",
       "      <td>32.0</td>\n",
       "      <td>90.4</td>\n",
       "      <td>84.1</td>\n",
       "      <td>0.0</td>\n",
       "      <td>POLYGON ((-77.02296 38.92723, -77.02255 38.927...</td>\n",
       "    </tr>\n",
       "  </tbody>\n",
       "</table>\n",
       "<p>1432 rows × 12 columns</p>\n",
       "</div>"
      ],
      "text/plain": [
       "            GEOID    year  mdn_nc_   mdn_hs_  pct_sngl_f  pct_sngl_m  fertlty  \\\n",
       "0     11001010900  2010.0   8233.0  140400.0         2.9        29.6     87.0   \n",
       "1     11001010900  2011.0   7265.0  141200.0         2.9        29.6     87.0   \n",
       "2     11001010900  2012.0   9559.0  135300.0         2.9        29.6     87.0   \n",
       "3     11001010900  2013.0   4116.0  137100.0         2.9        29.6     87.0   \n",
       "4     11001010900  2014.0   6453.0  132000.0         2.9        29.6     87.0   \n",
       "...           ...     ...      ...       ...         ...         ...      ...   \n",
       "1427  11001003400  2013.0  31252.0  543900.0         1.5         5.6     15.0   \n",
       "1428  11001003400  2014.0  28922.0  551800.0         1.5         5.6     15.0   \n",
       "1429  11001003400  2015.0  21951.0  602900.0         1.5         5.6     15.0   \n",
       "1430  11001003400  2016.0  18714.0  595000.0         1.5         5.6     15.0   \n",
       "1431  11001003400  2017.0  11079.0  700900.0         1.5         5.6     15.0   \n",
       "\n",
       "      pct_bch  pct_br_  pct_n__  gentrfd  \\\n",
       "0        12.5     97.6     94.1      0.0   \n",
       "1        12.5     97.6     94.1      0.0   \n",
       "2        12.5     97.6     94.1      0.0   \n",
       "3        12.5     97.6     94.1      0.0   \n",
       "4        12.5     97.6     94.1      0.0   \n",
       "...       ...      ...      ...      ...   \n",
       "1427     32.0     90.4     84.1      0.0   \n",
       "1428     32.0     90.4     84.1      0.0   \n",
       "1429     32.0     90.4     84.1      0.0   \n",
       "1430     32.0     90.4     84.1      0.0   \n",
       "1431     32.0     90.4     84.1      0.0   \n",
       "\n",
       "                                               geometry  \n",
       "0     POLYGON ((-77.03913 38.81961, -77.02748 38.819...  \n",
       "1     POLYGON ((-77.03913 38.81961, -77.02748 38.819...  \n",
       "2     POLYGON ((-77.03913 38.81961, -77.02748 38.819...  \n",
       "3     POLYGON ((-77.03913 38.81961, -77.02748 38.819...  \n",
       "4     POLYGON ((-77.03913 38.81961, -77.02748 38.819...  \n",
       "...                                                 ...  \n",
       "1427  POLYGON ((-77.02296 38.92723, -77.02255 38.927...  \n",
       "1428  POLYGON ((-77.02296 38.92723, -77.02255 38.927...  \n",
       "1429  POLYGON ((-77.02296 38.92723, -77.02255 38.927...  \n",
       "1430  POLYGON ((-77.02296 38.92723, -77.02255 38.927...  \n",
       "1431  POLYGON ((-77.02296 38.92723, -77.02255 38.927...  \n",
       "\n",
       "[1432 rows x 12 columns]"
      ]
     },
     "execution_count": 15,
     "metadata": {},
     "output_type": "execute_result"
    }
   ],
   "source": [
    "dc"
   ]
  }
 ],
 "metadata": {
  "kernelspec": {
   "display_name": "Python 3 (ipykernel)",
   "language": "python",
   "name": "python3"
  },
  "language_info": {
   "codemirror_mode": {
    "name": "ipython",
    "version": 3
   },
   "file_extension": ".py",
   "mimetype": "text/x-python",
   "name": "python",
   "nbconvert_exporter": "python",
   "pygments_lexer": "ipython3",
   "version": "3.9.7"
  }
 },
 "nbformat": 4,
 "nbformat_minor": 5
}
